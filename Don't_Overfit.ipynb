{
  "nbformat": 4,
  "nbformat_minor": 0,
  "metadata": {
    "colab": {
      "name": "Don't_Overfit.ipynb",
      "version": "0.3.2",
      "provenance": []
    },
    "language_info": {
      "codemirror_mode": {
        "name": "ipython",
        "version": 3
      },
      "file_extension": ".py",
      "mimetype": "text/x-python",
      "name": "python",
      "nbconvert_exporter": "python",
      "pygments_lexer": "ipython3",
      "version": "3.7.3"
    },
    "kernelspec": {
      "display_name": "Python 3",
      "language": "python",
      "name": "python3"
    }
  },
  "cells": [
    {
      "cell_type": "code",
      "metadata": {
        "id": "f1xP_5ILsvsn",
        "colab_type": "code",
        "outputId": "e0293b9b-e3cf-40f2-d2c0-7010f666460b",
        "colab": {
          "base_uri": "https://localhost:8080/",
          "height": 269
        }
      },
      "source": [
        "!pip install --user sklearn numpy pandas matplotlib\n",
        "\n",
        "import numpy as np\n",
        "import pandas as pd\n",
        "import os\n",
        "from sklearn.preprocessing import MinMaxScaler, StandardScaler\n",
        "from sklearn.model_selection import train_test_split\n",
        "import matplotlib.pyplot as plt\n",
        "import tensorflow as tf\n",
        "print(tf.__version__)\n",
        "from google.colab import files"
      ],
      "execution_count": 1,
      "outputs": [
        {
          "output_type": "stream",
          "text": [
            "Requirement already satisfied: sklearn in /usr/local/lib/python3.6/dist-packages (0.0)\n",
            "Requirement already satisfied: numpy in /usr/local/lib/python3.6/dist-packages (1.16.4)\n",
            "Requirement already satisfied: pandas in /usr/local/lib/python3.6/dist-packages (0.24.2)\n",
            "Requirement already satisfied: matplotlib in /usr/local/lib/python3.6/dist-packages (3.0.3)\n",
            "Requirement already satisfied: scikit-learn in /usr/local/lib/python3.6/dist-packages (from sklearn) (0.21.2)\n",
            "Requirement already satisfied: python-dateutil>=2.5.0 in /usr/local/lib/python3.6/dist-packages (from pandas) (2.5.3)\n",
            "Requirement already satisfied: pytz>=2011k in /usr/local/lib/python3.6/dist-packages (from pandas) (2018.9)\n",
            "Requirement already satisfied: cycler>=0.10 in /usr/local/lib/python3.6/dist-packages (from matplotlib) (0.10.0)\n",
            "Requirement already satisfied: kiwisolver>=1.0.1 in /usr/local/lib/python3.6/dist-packages (from matplotlib) (1.1.0)\n",
            "Requirement already satisfied: pyparsing!=2.0.4,!=2.1.2,!=2.1.6,>=2.0.1 in /usr/local/lib/python3.6/dist-packages (from matplotlib) (2.4.0)\n",
            "Requirement already satisfied: scipy>=0.17.0 in /usr/local/lib/python3.6/dist-packages (from scikit-learn->sklearn) (1.3.0)\n",
            "Requirement already satisfied: joblib>=0.11 in /usr/local/lib/python3.6/dist-packages (from scikit-learn->sklearn) (0.13.2)\n",
            "Requirement already satisfied: six>=1.5 in /usr/local/lib/python3.6/dist-packages (from python-dateutil>=2.5.0->pandas) (1.12.0)\n",
            "Requirement already satisfied: setuptools in /usr/local/lib/python3.6/dist-packages (from kiwisolver>=1.0.1->matplotlib) (41.0.1)\n",
            "1.13.1\n"
          ],
          "name": "stdout"
        }
      ]
    },
    {
      "cell_type": "code",
      "metadata": {
        "id": "Q39VjEwltKu8",
        "colab_type": "code",
        "colab": {}
      },
      "source": [
        "#uploaded = files.upload()"
      ],
      "execution_count": 0,
      "outputs": []
    },
    {
      "cell_type": "code",
      "metadata": {
        "id": "FKFrdSq7svs3",
        "colab_type": "code",
        "colab": {}
      },
      "source": [
        "BATCH_SIZE = 20\n",
        "FEATURE_COUNT = 300\n",
        "INPUT_SHAPE = FEATURE_COUNT"
      ],
      "execution_count": 0,
      "outputs": []
    },
    {
      "cell_type": "code",
      "metadata": {
        "id": "mH35vbwxsvs-",
        "colab_type": "code",
        "outputId": "be00ca16-6d95-4cec-e4c4-f02b50d395fa",
        "colab": {
          "base_uri": "https://localhost:8080/",
          "height": 52
        }
      },
      "source": [
        "def get_data_training():   \n",
        "#     files = os.listdir(\"../input\")\n",
        "#     filename = \"../input/\"+files[-1]\n",
        "   # filename = os.getcwd()+\"/train.csv\"\n",
        "    datadir = '/content'\n",
        "    #print('Loading {} into panda.'.format(filename))\n",
        "    training_df = pd.read_csv(os.path.join(datadir, 'train.csv'))\n",
        "    \n",
        "    for val in training_df['target'].unique():\n",
        "        count = training_df.loc[training_df['target'] == val].shape[0]\n",
        "        print('Label #{} has {} records'.format(val, count))\n",
        "    \n",
        "    x_train = training_df.iloc[:,2:].values\n",
        "    y_train = training_df['target'].values\n",
        "    return x_train, y_train\n",
        "\n",
        "\n",
        "def get_data_testing():    \n",
        "#     files = os.listdir(\"../input\")\n",
        "#     filename = \"../input/\"+files[-1]\n",
        "    datadir = '/content'\n",
        "   # print('Loading {} into panda.'.format(filename))\n",
        "    #training_df = pd.read_csv(filename)\n",
        "    training_df = pd.read_csv(os.path.join(datadir, 'test.csv'))\n",
        "\n",
        "    x_test = training_df.iloc[:,1:].values\n",
        "    return x_test\n",
        "\n",
        "\n",
        "x_train, y_train = get_data_training()\n",
        "x_test = get_data_testing()\n",
        "\n",
        "# scall all data - a look ahead because they didn't say we couldnt\n",
        "merged_x = np.concatenate((x_train, x_test))\n",
        "\n",
        "scaler = MinMaxScaler()\n",
        "# scaler = StandardScaler()\n",
        "\n",
        "scaler.fit(merged_x)\n",
        "# scaler.fit(x_train)\n",
        "\n",
        "x_train = scaler.transform(x_train)\n",
        "x_test = scaler.transform(x_test)"
      ],
      "execution_count": 0,
      "outputs": [
        {
          "output_type": "stream",
          "text": [
            "Label #1.0 has 160 records\n",
            "Label #0.0 has 90 records\n"
          ],
          "name": "stdout"
        }
      ]
    },
    {
      "cell_type": "code",
      "metadata": {
        "id": "A48UOIdosvtH",
        "colab_type": "code",
        "outputId": "d35d6946-7f7d-4e12-e634-b7d24425e037",
        "colab": {
          "base_uri": "https://localhost:8080/",
          "height": 175
        }
      },
      "source": [
        "print('x_train.shape() = {}'.format(x_train.shape))\n",
        "print('x_train.min() = {}'.format(x_train.min()))\n",
        "print('x_train.max() = {}'.format(x_train.max()))\n",
        "\n",
        "print('y_train.min() = {}'.format(y_train.min()))\n",
        "print('y_train.max() = {}'.format(y_train.max()))\n",
        "\n",
        "print()\n",
        "\n",
        "print('x_test.shape() = {}'.format(x_test.shape))\n",
        "print('x_test.min() = {}'.format(x_test.min()))\n",
        "print('x_test.max() = {}'.format(x_test.max()))"
      ],
      "execution_count": 0,
      "outputs": [
        {
          "output_type": "stream",
          "text": [
            "x_train.shape() = (250, 300)\n",
            "x_train.min() = 0.0\n",
            "x_train.max() = 1.0\n",
            "y_train.min() = 0.0\n",
            "y_train.max() = 1.0\n",
            "\n",
            "x_test.shape() = (19750, 300)\n",
            "x_test.min() = 0.0\n",
            "x_test.max() = 1.0000000000000002\n"
          ],
          "name": "stdout"
        }
      ]
    },
    {
      "cell_type": "code",
      "metadata": {
        "id": "CNd1QL3lsvtO",
        "colab_type": "code",
        "colab": {}
      },
      "source": [
        "# def create_model_binary():\n",
        "#     model = tf.keras.Sequential([\n",
        "#         tf.keras.layers.Dense(256, input_dim=INPUT_SHAPE, activation=tf.nn.relu),\n",
        "#         tf.keras.layers.Dense(128, activation=tf.nn.relu),\n",
        "#         tf.keras.layers.Dense(64, activation=tf.nn.relu),\n",
        "#         tf.keras.layers.Dense(32, activation=tf.nn.relu),\n",
        "#         tf.keras.layers.Dense(1, activation=tf.nn.sigmoid)\n",
        "#     ])\n",
        "#     model.compile(optimizer='rmsprop', \n",
        "#                   loss='binary_crossentropy',\n",
        "#                   metrics=['accuracy'])\n",
        "#     model.summary()\n",
        "#     return model\n",
        "\n",
        "# \n",
        "def create_model():\n",
        "    model = tf.keras.Sequential([\n",
        "        tf.keras.layers.Dense(300, input_dim=INPUT_SHAPE, activation=tf.nn.relu, name='layer_1'),\n",
        "        tf.keras.layers.BatchNormalization(),\n",
        "        tf.keras.layers.Dense(300, activation=tf.nn.relu, name='layer_2'),\n",
        "        tf.keras.layers.Dropout(0.5),\n",
        "        tf.keras.layers.Dense(150, activation=tf.nn.relu, name='layer_3'),\n",
        "        tf.keras.layers.Dropout(0.5),\n",
        "        tf.keras.layers.Dense(75, activation=tf.nn.relu, name='layer_4'),\n",
        "        tf.keras.layers.Dropout(0.5),\n",
        "        tf.keras.layers.Dense(33, activation=tf.nn.relu, name='layer_5'),\n",
        "        tf.keras.layers.Dropout(0.5),\n",
        "        tf.keras.layers.Dense(2, activation=tf.nn.softmax, name='output_layer')\n",
        "    ])\n",
        "    model.compile(optimizer='rmsprop', \n",
        "                  loss='categorical_crossentropy',\n",
        "                  metrics=['accuracy'])\n",
        "    model.summary()\n",
        "    return model\n",
        "\n",
        "\n"
      ],
      "execution_count": 0,
      "outputs": []
    },
    {
      "cell_type": "code",
      "metadata": {
        "id": "iByU6XXvsvtU",
        "colab_type": "code",
        "colab": {}
      },
      "source": [
        "from sklearn.metrics import roc_auc_score\n",
        "\n",
        "class Histories(tf.keras.callbacks.Callback):\n",
        "    def on_train_begin(self, logs={}):\n",
        "        self.aucs = []\n",
        "        self.losses = []\n",
        "\n",
        "    def on_train_end(self, logs={}):\n",
        "#         print('done training.')\n",
        "        return\n",
        "\n",
        "    def on_epoch_begin(self, epoch, logs={}):\n",
        "        return\n",
        "\n",
        "#     def on_epoch_end(self, epoch, logs={}):\n",
        "#         self.losses.append(logs.get('loss'))\n",
        "#         y_pred = self.model.predict(self.validation_data[0])\n",
        "#         self.aucs.append(roc_auc_score(self.validation_data[1], y_pred))\n",
        "#         return\n",
        "\n",
        "    def on_batch_begin(self, batch, logs={}):\n",
        "        return\n",
        "\n",
        "    def on_batch_end(self, batch, logs={}):\n",
        "        return\n",
        "\n",
        "    \n",
        "histories = Histories()    "
      ],
      "execution_count": 0,
      "outputs": []
    },
    {
      "cell_type": "code",
      "metadata": {
        "id": "MTRp-FYxsvtX",
        "colab_type": "code",
        "colab": {}
      },
      "source": [
        "def get_shuffled_data(X, y):\n",
        "    random = np.random.randint(low=1, high=100, size=1)[0]\n",
        "    X_train, X_test, Y_train, Y_test = train_test_split(X, y, \n",
        "                    test_size=0.33, random_state=random, shuffle=True)\n",
        "    \n",
        "#     one_hot_labels = tf.keras.utils.to_categorical(labels, num_classes=10)\n",
        "    Y_train = tf.keras.utils.to_categorical(Y_train, num_classes=2)\n",
        "    Y_test = tf.keras.utils.to_categorical(Y_test, num_classes=2)\n",
        "    return X_train, X_test, Y_train, Y_test\n",
        "    \n",
        "\n",
        "def get_shuffled_data_binary(X, y):\n",
        "    random = np.random.randint(low=1, high=100, size=1)[0]\n",
        "    return train_test_split(X, y, test_size=0.33, random_state=random, shuffle=True)"
      ],
      "execution_count": 0,
      "outputs": []
    },
    {
      "cell_type": "code",
      "metadata": {
        "id": "1LKj2KJysvtd",
        "colab_type": "code",
        "outputId": "abb32221-80a2-4f70-ccc6-f408f40e5869",
        "colab": {
          "base_uri": "https://localhost:8080/",
          "height": 1037
        }
      },
      "source": [
        "model = create_model()\n",
        "\n",
        "accuracies = []\n",
        "for i in range(4):\n",
        "    X_train, X_test, Y_train, Y_test = get_shuffled_data(x_train, y_train)\n",
        "    model.fit(X_train, Y_train,\n",
        "              batch_size=BATCH_SIZE, \n",
        "              epochs=80,\n",
        "              verbose=0,\n",
        "              shuffle=True,\n",
        "#               validation_data=(X_test, Y_test),\n",
        "              callbacks=[histories])\n",
        "    score = model.evaluate(X_test, Y_test, verbose=0)\n",
        "    accuracies.append(score[1])\n",
        "    \n",
        "print('**********************')\n",
        "print('Test score:', score[0])\n",
        "print('Test accuracy:', score[1])\n",
        "\n",
        "\n",
        "plt.plot(accuracies, label='accuracies')\n",
        "plt.title('MLP Performance')\n",
        "plt.xlabel('Epoch (80x)')\n",
        "plt.ylabel('Correct Predictions (%)')\n",
        "plt.legend()\n",
        "plt.show()"
      ],
      "execution_count": 0,
      "outputs": [
        {
          "output_type": "stream",
          "text": [
            "WARNING:tensorflow:From /usr/local/lib/python3.6/dist-packages/tensorflow/python/ops/resource_variable_ops.py:435: colocate_with (from tensorflow.python.framework.ops) is deprecated and will be removed in a future version.\n",
            "Instructions for updating:\n",
            "Colocations handled automatically by placer.\n",
            "WARNING:tensorflow:From /usr/local/lib/python3.6/dist-packages/tensorflow/python/keras/layers/core.py:143: calling dropout (from tensorflow.python.ops.nn_ops) with keep_prob is deprecated and will be removed in a future version.\n",
            "Instructions for updating:\n",
            "Please use `rate` instead of `keep_prob`. Rate should be set to `rate = 1 - keep_prob`.\n",
            "_________________________________________________________________\n",
            "Layer (type)                 Output Shape              Param #   \n",
            "=================================================================\n",
            "layer_1 (Dense)              (None, 300)               90300     \n",
            "_________________________________________________________________\n",
            "batch_normalization_v1 (Batc (None, 300)               1200      \n",
            "_________________________________________________________________\n",
            "layer_2 (Dense)              (None, 300)               90300     \n",
            "_________________________________________________________________\n",
            "dropout (Dropout)            (None, 300)               0         \n",
            "_________________________________________________________________\n",
            "layer_3 (Dense)              (None, 150)               45150     \n",
            "_________________________________________________________________\n",
            "dropout_1 (Dropout)          (None, 150)               0         \n",
            "_________________________________________________________________\n",
            "layer_4 (Dense)              (None, 75)                11325     \n",
            "_________________________________________________________________\n",
            "dropout_2 (Dropout)          (None, 75)                0         \n",
            "_________________________________________________________________\n",
            "layer_5 (Dense)              (None, 33)                2508      \n",
            "_________________________________________________________________\n",
            "dropout_3 (Dropout)          (None, 33)                0         \n",
            "_________________________________________________________________\n",
            "output_layer (Dense)         (None, 2)                 68        \n",
            "=================================================================\n",
            "Total params: 240,851\n",
            "Trainable params: 240,251\n",
            "Non-trainable params: 600\n",
            "_________________________________________________________________\n",
            "WARNING:tensorflow:From /usr/local/lib/python3.6/dist-packages/tensorflow/python/ops/math_ops.py:3066: to_int32 (from tensorflow.python.ops.math_ops) is deprecated and will be removed in a future version.\n",
            "Instructions for updating:\n",
            "Use tf.cast instead.\n",
            "**********************\n",
            "Test score: 0.9234523608023861\n",
            "Test accuracy: 0.939759\n"
          ],
          "name": "stdout"
        },
        {
          "output_type": "display_data",
          "data": {
            "image/png": "[encoded data removed]",
            "text/plain": [
              "<Figure size 432x288 with 1 Axes>"
            ]
          },
          "metadata": {
            "tags": []
          }
        }
      ]
    },
    {
      "cell_type": "code",
      "metadata": {
        "id": "_Chnu1UFsvtj",
        "colab_type": "code",
        "colab": {}
      },
      "source": [
        "predictions = model.predict_classes(x_test)"
      ],
      "execution_count": 0,
      "outputs": []
    },
    {
      "cell_type": "code",
      "metadata": {
        "id": "QLxyE1bWsvto",
        "colab_type": "code",
        "outputId": "0acc317a-0704-4c0f-d2ca-2cb25a64634f",
        "colab": {
          "base_uri": "https://localhost:8080/",
          "height": 52
        }
      },
      "source": [
        "predictions_export = pd.DataFrame()\n",
        "predictions_export['id'] = list(range(250, len(predictions) + 250))\n",
        "predictions_export['target'] = predictions\n",
        "\n",
        "for val  in predictions_export['target'].unique():\n",
        "    count = predictions_export.loc[predictions_export['target'] == val].shape[0]\n",
        "    print('val #{} count = {}'.format(val, count))"
      ],
      "execution_count": 0,
      "outputs": [
        {
          "output_type": "stream",
          "text": [
            "val #0 count = 9294\n",
            "val #1 count = 10456\n"
          ],
          "name": "stdout"
        }
      ]
    },
    {
      "cell_type": "code",
      "metadata": {
        "id": "kmitmCpPsvtt",
        "colab_type": "code",
        "colab": {}
      },
      "source": [
        "predictions_export.to_csv('predictions_export.csv', index=False)"
      ],
      "execution_count": 0,
      "outputs": []
    },
    {
      "cell_type": "code",
      "metadata": {
        "id": "Gxa_m3Iisvt1",
        "colab_type": "code",
        "colab": {}
      },
      "source": [
        "files.download('predictions_export.csv') \n"
      ],
      "execution_count": 0,
      "outputs": []
    },
    {
      "cell_type": "code",
      "metadata": {
        "id": "kizurlMMsvt6",
        "colab_type": "code",
        "outputId": "1a1ea47d-0ad6-421b-c567-d610d82fa813",
        "colab": {
          "base_uri": "https://localhost:8080/",
          "height": 282
        }
      },
      "source": [
        "datadir = '/content'\n",
        "Sub_df = pd.read_csv(os.path.join(datadir, 'predictions_export.csv'))\n",
        "Sub_df['target'].value_counts().to_frame().plot.bar()"
      ],
      "execution_count": 0,
      "outputs": [
        {
          "output_type": "execute_result",
          "data": {
            "text/plain": [
              "<matplotlib.axes._subplots.AxesSubplot at 0x7f94b803ce80>"
            ]
          },
          "metadata": {
            "tags": []
          },
          "execution_count": 21
        },
        {
          "output_type": "display_data",
          "data": {
            "image/png": "[encoded data removed]",
            "text/plain": [
              "<Figure size 432x288 with 1 Axes>"
            ]
          },
          "metadata": {
            "tags": []
          }
        }
      ]
    },
    {
      "cell_type": "code",
      "metadata": {
        "id": "_Ql1oR7OxxfI",
        "colab_type": "code",
        "colab": {}
      },
      "source": [
        ""
      ],
      "execution_count": 0,
      "outputs": []
    }
  ]
}